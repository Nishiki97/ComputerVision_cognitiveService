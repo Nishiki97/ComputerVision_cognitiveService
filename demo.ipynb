{
 "metadata": {
  "language_info": {
   "codemirror_mode": {
    "name": "ipython",
    "version": 3
   },
   "file_extension": ".py",
   "mimetype": "text/x-python",
   "name": "python",
   "nbconvert_exporter": "python",
   "pygments_lexer": "ipython3",
   "version": 3
  },
  "orig_nbformat": 2
 },
 "nbformat": 4,
 "nbformat_minor": 2,
 "cells": [
  {
   "cell_type": "code",
   "execution_count": null,
   "metadata": {},
   "outputs": [],
   "source": [
    "cog_key = \"COPY_THE_KEY_HERE\"\n",
    "cog_endpoint = \"COPY_THE_ENDPOINT_URL_HERE\"\n",
    "\n",
    "print(\"ready to use cognitive service\")"
   ]
  },
  {
   "cell_type": "code",
   "execution_count": null,
   "metadata": {},
   "outputs": [],
   "source": [
    "from azure.cognitiveservices.vision.computervision import ComputerVisionClient \n",
    "from azure.cognitiveservices.vision.computervision.models import OperationStatusCodes\n",
    "import time\n",
    "from msrest.authentication import CognitiveServicesCredentials\n",
    "import matplotlib.pyplot as pyplot \n",
    "from PIL import Image, ImageDraw\n",
    "import os\n",
    "%matplotlib inline\n",
    "\n",
    "#get a client for the compouter vision service \n",
    "computervision_client = ComputerVisionClient(cog_endpoint, CognitiveServicesCredentials(cog_key))\n",
    "\n",
    "#read the handwritten image file\n",
    "image_path = os.path.join('images', 'hand.jpg')\n",
    "image_stream = open(image_path, \"rb\")\n",
    "\n",
    "#submit a request to read handwritten text in the image and get the operation ID\n",
    "read_operation = computervision_client.read_in_stream(image_stream, raw=True)\n",
    "operation_location = read_operation.headers[\"Operation-Location\"]\n",
    "operation_id = operation_location.split(\"/\")[-1]\n",
    "\n",
    "#wait for the asynchronous operation to complete\n",
    "while True:\n",
    "    read_result = computervision_client.get_read_result(operation_id)\n",
    "    if read_result.status not in [OperationStatusCodes.running]:\n",
    "        break\n",
    "    time.sleep(1)\n",
    "\n",
    "#if the operation was successfuly, process the text line by line\n",
    "if read_result.status == OperationStatusCodes.succeeded:\n",
    "    for result in read_result.analyze_result.read_results:\n",
    "        for line in result.lines:\n",
    "            print(line.text)\n",
    "\n",
    "#open image and display it\n",
    "print(\"\\n\")\n",
    "fig = pyplot.figure(figsize=(12,12))\n",
    "img = Image.open(image_path)\n",
    "pyplot.axis(\"off\")\n",
    "pyplot.imshow(img)\n"
   ]
  }
 ]
}